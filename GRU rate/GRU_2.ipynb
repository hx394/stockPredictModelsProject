{
  "nbformat": 4,
  "nbformat_minor": 0,
  "metadata": {
    "colab": {
      "provenance": [],
      "gpuType": "T4"
    },
    "kernelspec": {
      "name": "python3",
      "display_name": "Python 3"
    },
    "language_info": {
      "name": "python"
    },
    "accelerator": "GPU"
  },
  "cells": [
    {
      "cell_type": "code",
      "execution_count": null,
      "metadata": {
        "colab": {
          "base_uri": "https://localhost:8080/"
        },
        "id": "hu6RB_LkgdE6",
        "outputId": "abbf616b-d750-4177-a449-a073dead8105"
      },
      "outputs": [
        {
          "output_type": "stream",
          "name": "stdout",
          "text": [
            "Requirement already satisfied: torch in /usr/local/lib/python3.10/dist-packages (2.5.0+cu121)\n",
            "Requirement already satisfied: torchvision in /usr/local/lib/python3.10/dist-packages (0.20.0+cu121)\n",
            "Requirement already satisfied: filelock in /usr/local/lib/python3.10/dist-packages (from torch) (3.16.1)\n",
            "Requirement already satisfied: typing-extensions>=4.8.0 in /usr/local/lib/python3.10/dist-packages (from torch) (4.12.2)\n",
            "Requirement already satisfied: networkx in /usr/local/lib/python3.10/dist-packages (from torch) (3.4.2)\n",
            "Requirement already satisfied: jinja2 in /usr/local/lib/python3.10/dist-packages (from torch) (3.1.4)\n",
            "Requirement already satisfied: fsspec in /usr/local/lib/python3.10/dist-packages (from torch) (2024.10.0)\n",
            "Requirement already satisfied: sympy==1.13.1 in /usr/local/lib/python3.10/dist-packages (from torch) (1.13.1)\n",
            "Requirement already satisfied: mpmath<1.4,>=1.1.0 in /usr/local/lib/python3.10/dist-packages (from sympy==1.13.1->torch) (1.3.0)\n",
            "Requirement already satisfied: numpy in /usr/local/lib/python3.10/dist-packages (from torchvision) (1.26.4)\n",
            "Requirement already satisfied: pillow!=8.3.*,>=5.3.0 in /usr/local/lib/python3.10/dist-packages (from torchvision) (11.0.0)\n",
            "Requirement already satisfied: MarkupSafe>=2.0 in /usr/local/lib/python3.10/dist-packages (from jinja2->torch) (3.0.2)\n"
          ]
        }
      ],
      "source": [
        "!pip install torch torchvision"
      ]
    },
    {
      "cell_type": "code",
      "source": [
        "# 对于 PyTorch\n",
        "import torch\n",
        "print(torch.cuda.is_available())  # 如果返回 True，说明 GPU 可用\n",
        "print(torch.cuda.get_device_name(0))  # 查看 GPU 的名称"
      ],
      "metadata": {
        "colab": {
          "base_uri": "https://localhost:8080/"
        },
        "id": "kQJ7MbMzhITI",
        "outputId": "efb5a8df-e7ec-4953-b357-ccc956e186e9"
      },
      "execution_count": null,
      "outputs": [
        {
          "output_type": "stream",
          "name": "stdout",
          "text": [
            "True\n",
            "Tesla T4\n"
          ]
        }
      ]
    },
    {
      "cell_type": "code",
      "source": [
        "from google.colab import files\n",
        "uploaded = files.upload()"
      ],
      "metadata": {
        "colab": {
          "base_uri": "https://localhost:8080/",
          "height": 76
        },
        "id": "3fI0qaKAiEDG",
        "outputId": "9c30be9a-de4a-47b2-96d6-e3fd57ad7340"
      },
      "execution_count": 1,
      "outputs": [
        {
          "output_type": "display_data",
          "data": {
            "text/plain": [
              "<IPython.core.display.HTML object>"
            ],
            "text/html": [
              "\n",
              "     <input type=\"file\" id=\"files-162a0eca-b678-4a49-b2f9-17eeb864464a\" name=\"files[]\" multiple disabled\n",
              "        style=\"border:none\" />\n",
              "     <output id=\"result-162a0eca-b678-4a49-b2f9-17eeb864464a\">\n",
              "      Upload widget is only available when the cell has been executed in the\n",
              "      current browser session. Please rerun this cell to enable.\n",
              "      </output>\n",
              "      <script>// Copyright 2017 Google LLC\n",
              "//\n",
              "// Licensed under the Apache License, Version 2.0 (the \"License\");\n",
              "// you may not use this file except in compliance with the License.\n",
              "// You may obtain a copy of the License at\n",
              "//\n",
              "//      http://www.apache.org/licenses/LICENSE-2.0\n",
              "//\n",
              "// Unless required by applicable law or agreed to in writing, software\n",
              "// distributed under the License is distributed on an \"AS IS\" BASIS,\n",
              "// WITHOUT WARRANTIES OR CONDITIONS OF ANY KIND, either express or implied.\n",
              "// See the License for the specific language governing permissions and\n",
              "// limitations under the License.\n",
              "\n",
              "/**\n",
              " * @fileoverview Helpers for google.colab Python module.\n",
              " */\n",
              "(function(scope) {\n",
              "function span(text, styleAttributes = {}) {\n",
              "  const element = document.createElement('span');\n",
              "  element.textContent = text;\n",
              "  for (const key of Object.keys(styleAttributes)) {\n",
              "    element.style[key] = styleAttributes[key];\n",
              "  }\n",
              "  return element;\n",
              "}\n",
              "\n",
              "// Max number of bytes which will be uploaded at a time.\n",
              "const MAX_PAYLOAD_SIZE = 100 * 1024;\n",
              "\n",
              "function _uploadFiles(inputId, outputId) {\n",
              "  const steps = uploadFilesStep(inputId, outputId);\n",
              "  const outputElement = document.getElementById(outputId);\n",
              "  // Cache steps on the outputElement to make it available for the next call\n",
              "  // to uploadFilesContinue from Python.\n",
              "  outputElement.steps = steps;\n",
              "\n",
              "  return _uploadFilesContinue(outputId);\n",
              "}\n",
              "\n",
              "// This is roughly an async generator (not supported in the browser yet),\n",
              "// where there are multiple asynchronous steps and the Python side is going\n",
              "// to poll for completion of each step.\n",
              "// This uses a Promise to block the python side on completion of each step,\n",
              "// then passes the result of the previous step as the input to the next step.\n",
              "function _uploadFilesContinue(outputId) {\n",
              "  const outputElement = document.getElementById(outputId);\n",
              "  const steps = outputElement.steps;\n",
              "\n",
              "  const next = steps.next(outputElement.lastPromiseValue);\n",
              "  return Promise.resolve(next.value.promise).then((value) => {\n",
              "    // Cache the last promise value to make it available to the next\n",
              "    // step of the generator.\n",
              "    outputElement.lastPromiseValue = value;\n",
              "    return next.value.response;\n",
              "  });\n",
              "}\n",
              "\n",
              "/**\n",
              " * Generator function which is called between each async step of the upload\n",
              " * process.\n",
              " * @param {string} inputId Element ID of the input file picker element.\n",
              " * @param {string} outputId Element ID of the output display.\n",
              " * @return {!Iterable<!Object>} Iterable of next steps.\n",
              " */\n",
              "function* uploadFilesStep(inputId, outputId) {\n",
              "  const inputElement = document.getElementById(inputId);\n",
              "  inputElement.disabled = false;\n",
              "\n",
              "  const outputElement = document.getElementById(outputId);\n",
              "  outputElement.innerHTML = '';\n",
              "\n",
              "  const pickedPromise = new Promise((resolve) => {\n",
              "    inputElement.addEventListener('change', (e) => {\n",
              "      resolve(e.target.files);\n",
              "    });\n",
              "  });\n",
              "\n",
              "  const cancel = document.createElement('button');\n",
              "  inputElement.parentElement.appendChild(cancel);\n",
              "  cancel.textContent = 'Cancel upload';\n",
              "  const cancelPromise = new Promise((resolve) => {\n",
              "    cancel.onclick = () => {\n",
              "      resolve(null);\n",
              "    };\n",
              "  });\n",
              "\n",
              "  // Wait for the user to pick the files.\n",
              "  const files = yield {\n",
              "    promise: Promise.race([pickedPromise, cancelPromise]),\n",
              "    response: {\n",
              "      action: 'starting',\n",
              "    }\n",
              "  };\n",
              "\n",
              "  cancel.remove();\n",
              "\n",
              "  // Disable the input element since further picks are not allowed.\n",
              "  inputElement.disabled = true;\n",
              "\n",
              "  if (!files) {\n",
              "    return {\n",
              "      response: {\n",
              "        action: 'complete',\n",
              "      }\n",
              "    };\n",
              "  }\n",
              "\n",
              "  for (const file of files) {\n",
              "    const li = document.createElement('li');\n",
              "    li.append(span(file.name, {fontWeight: 'bold'}));\n",
              "    li.append(span(\n",
              "        `(${file.type || 'n/a'}) - ${file.size} bytes, ` +\n",
              "        `last modified: ${\n",
              "            file.lastModifiedDate ? file.lastModifiedDate.toLocaleDateString() :\n",
              "                                    'n/a'} - `));\n",
              "    const percent = span('0% done');\n",
              "    li.appendChild(percent);\n",
              "\n",
              "    outputElement.appendChild(li);\n",
              "\n",
              "    const fileDataPromise = new Promise((resolve) => {\n",
              "      const reader = new FileReader();\n",
              "      reader.onload = (e) => {\n",
              "        resolve(e.target.result);\n",
              "      };\n",
              "      reader.readAsArrayBuffer(file);\n",
              "    });\n",
              "    // Wait for the data to be ready.\n",
              "    let fileData = yield {\n",
              "      promise: fileDataPromise,\n",
              "      response: {\n",
              "        action: 'continue',\n",
              "      }\n",
              "    };\n",
              "\n",
              "    // Use a chunked sending to avoid message size limits. See b/62115660.\n",
              "    let position = 0;\n",
              "    do {\n",
              "      const length = Math.min(fileData.byteLength - position, MAX_PAYLOAD_SIZE);\n",
              "      const chunk = new Uint8Array(fileData, position, length);\n",
              "      position += length;\n",
              "\n",
              "      const base64 = btoa(String.fromCharCode.apply(null, chunk));\n",
              "      yield {\n",
              "        response: {\n",
              "          action: 'append',\n",
              "          file: file.name,\n",
              "          data: base64,\n",
              "        },\n",
              "      };\n",
              "\n",
              "      let percentDone = fileData.byteLength === 0 ?\n",
              "          100 :\n",
              "          Math.round((position / fileData.byteLength) * 100);\n",
              "      percent.textContent = `${percentDone}% done`;\n",
              "\n",
              "    } while (position < fileData.byteLength);\n",
              "  }\n",
              "\n",
              "  // All done.\n",
              "  yield {\n",
              "    response: {\n",
              "      action: 'complete',\n",
              "    }\n",
              "  };\n",
              "}\n",
              "\n",
              "scope.google = scope.google || {};\n",
              "scope.google.colab = scope.google.colab || {};\n",
              "scope.google.colab._files = {\n",
              "  _uploadFiles,\n",
              "  _uploadFilesContinue,\n",
              "};\n",
              "})(self);\n",
              "</script> "
            ]
          },
          "metadata": {}
        },
        {
          "output_type": "stream",
          "name": "stdout",
          "text": [
            "Saving Reversed_VZ_Data_with_PCA.csv to Reversed_VZ_Data_with_PCA.csv\n"
          ]
        }
      ]
    },
    {
      "cell_type": "code",
      "source": [
        "# 导入库\n",
        "import numpy as np\n",
        "import pandas as pd\n",
        "import torch\n",
        "import torch.nn as nn\n",
        "import torch.optim as optim\n",
        "from sklearn.preprocessing import MinMaxScaler\n",
        "from sklearn.model_selection import train_test_split\n",
        "from torch.utils.data import DataLoader, TensorDataset\n",
        "import matplotlib.pyplot as plt\n",
        "from tqdm import tqdm\n",
        "\n",
        "# 1. 加载并预处理数据\n",
        "# 假设数据在 data.csv 中，有多列 'Open'、'High'、'Low'、'Close'、'Volume'\n",
        "data = pd.read_csv('Reversed_VZ_Data_with_PCA.csv')\n",
        "#print(data)\n",
        "features = data[['open', 'high', 'low', 'close', 'volume','Principal Component 1','Principal Component 2']].values\n",
        "\n",
        "# 标准化数据\n",
        "scaler = MinMaxScaler()\n",
        "\n",
        "# 划分训练集和测试集\n",
        "train_ratio = 0.8\n",
        "split_idx = int(len(features) * train_ratio)\n",
        "split_idx = round(split_idx / 32) * 32\n",
        "\n",
        "\n",
        "start=0\n",
        "\n",
        "\n",
        "X_train = features[start:start+split_idx]  # 前 80% 作为训练集\n",
        "X_test = features[start+split_idx:len(features)]\n",
        "# 只用训练集计算最小值和最大值\n",
        "scaler.fit(X_train)\n",
        "\n",
        "# 用相同的参数对训练集和测试集进行归一化\n",
        "X_train_normalized = scaler.transform(X_train)\n",
        "X_test_normalized = scaler.transform(X_test)\n",
        "\n",
        "\n",
        "result_vstack = np.vstack([X_train_normalized, X_test_normalized])\n",
        "\n",
        "\n",
        "\n",
        "\n",
        "\n",
        "# 创建时间序列数据\n",
        "def create_sequences(data, seq_length, original):\n",
        "    sequences = []\n",
        "    labels = []\n",
        "    actual_values=[]\n",
        "    for i in range(len(data) - seq_length):\n",
        "        sequences.append(data[i:i+seq_length])\n",
        "\n",
        "        labels.append(features[i+seq_length, 3]/features[i+seq_length-1,3])  # 使用 'Close' 列（索引 3）作为预测目标\n",
        "        actual_values.append([features[i+seq_length-1, 3],features[i+seq_length, 3]])\n",
        "\n",
        "    return np.array(sequences), np.array(labels),np.array(actual_values)\n",
        "\n",
        "seq_length = 30  # 使用前 30 天的数据预测下一天\n",
        "X, y, z = create_sequences(result_vstack, seq_length,features)\n",
        "\n",
        "print(X.shape)\n",
        "print(y.shape)\n",
        "print(z.shape)\n",
        "\n",
        "# 转换为 Tensor\n",
        "X = torch.tensor(X, dtype=torch.float32)\n",
        "y = torch.tensor(y, dtype=torch.float32)\n",
        "z = torch.tensor(z, dtype=torch.float32)\n",
        "\n",
        "split_idx = int(len(y) * train_ratio)\n",
        "split_idx = round(split_idx / 32) * 32\n",
        "start=len(y)%32\n",
        "\n",
        "\n",
        "\n",
        "X_train = X[start:start+split_idx]  # 前 80% 作为训练集\n",
        "y_train = y[start:start+split_idx]\n",
        "X_test = X[start+split_idx:len(y)]\n",
        "y_test = y[start+split_idx:len(y)]\n",
        "z_train = z[start:start+split_idx]\n",
        "z_test = z[start+split_idx:len(y)]\n",
        "  # 后 20% 作为测试集\n",
        "\n",
        "  # 后 20% 作为测试集\n",
        "\n",
        "\n",
        "\n",
        "\n",
        "\n"
      ],
      "metadata": {
        "colab": {
          "base_uri": "https://localhost:8080/"
        },
        "id": "QzSnI78siMeR",
        "outputId": "ce234129-b89f-4113-d0b5-14ec90b19623"
      },
      "execution_count": 2,
      "outputs": [
        {
          "output_type": "stream",
          "name": "stdout",
          "text": [
            "(2519, 30, 7)\n",
            "(2519,)\n",
            "(2519, 2)\n"
          ]
        }
      ]
    },
    {
      "cell_type": "code",
      "source": [
        "\n",
        "\n",
        "\n",
        "\n",
        "train_data = TensorDataset(X_train, y_train,z_train)\n",
        "test_data = TensorDataset(X_test, y_test,z_test)\n",
        "\n",
        "train_loader = DataLoader(train_data, batch_size=32, shuffle=False)\n",
        "test_loader = DataLoader(test_data, batch_size=32, shuffle=False, drop_last=False)\n",
        "\n",
        "# 2. 定义 GRU 模型\n",
        "class GRUModel(nn.Module):\n",
        "    def __init__(self, input_size=7, hidden_size=500, num_layers=2, output_size=1):\n",
        "        super(GRUModel, self).__init__()\n",
        "        self.hidden_size = hidden_size\n",
        "        self.num_layers = num_layers\n",
        "        self.gru = nn.GRU(input_size, hidden_size, num_layers, batch_first=True)\n",
        "        self.fc1 = nn.Linear(hidden_size, 1000)  # 第一层全连接层\n",
        "        self.fc2 = nn.Linear(1000, 2000)          # 第二层全连接层\n",
        "        self.fc3 = nn.Linear(2000, 4000)  # 输出层\n",
        "        self.fc4 = nn.Linear(4000,output_size)\n",
        "        self.hidden_state=None\n",
        "\n",
        "    def forward(self, x,hidden):\n",
        "        h0 = torch.zeros(self.num_layers, x.size(0), self.hidden_size).to(x.device)\n",
        "\n",
        "        if self.hidden_state is None:\n",
        "            h0 = torch.zeros(self.num_layers, x.size(0), self.hidden_size).to(x.device)\n",
        "\n",
        "        else:\n",
        "            h0 = self.hidden_state\n",
        "            h0  = h0.detach()\n",
        "\n",
        "        out, self.hidden_state = self.gru(x, h0)\n",
        "        #print(out.shape)\n",
        "        out = self.fc1(out[:, -1, :])\n",
        "        out = torch.relu(out)\n",
        "\n",
        "        out = self.fc2(out)\n",
        "        out = torch.relu(out)\n",
        "        out = self.fc3(out)\n",
        "        out = torch.relu(out)\n",
        "        out = self.fc4(out)\n",
        "        hidden=self.hidden_state\n",
        "        return out, hidden\n",
        "\n",
        "# 3. 设置训练参数\n",
        "device = torch.device(\"cuda\" if torch.cuda.is_available() else \"cpu\")\n",
        "model = GRUModel().to(device)\n",
        "criterion = nn.MSELoss()\n",
        "optimizer = optim.Adam(model.parameters(), lr=0.001,weight_decay=1e-5)\n",
        "epochs = 50\n",
        "hidden=None\n",
        "\n",
        "# 4. 训练模型\n",
        "model.train()\n",
        "for epoch in tqdm(range(epochs)):\n",
        "    for X_batch, y_batch, z_batch in train_loader:\n",
        "        #print(X_batch.shape)\n",
        "        X_batch, y_batch , z_batch = X_batch.to(device), y_batch.to(device),z_batch.to(device)\n",
        "\n",
        "        optimizer.zero_grad()\n",
        "        output, hidden = model(X_batch, hidden)\n",
        "\n",
        "        #print(\"output\")\n",
        "        #print(output*100000)\n",
        "        y_batch = y_batch.view(-1, 1)\n",
        "        #print(y_batch)\n",
        "        #print(output.shape)\n",
        "        loss = criterion(output[:,0]  * z_batch[:,0], z_batch[:,1])\n",
        "        loss.backward()\n",
        "        optimizer.step()\n",
        "\n",
        "    if (epoch+1) % 10 == 0:\n",
        "        print(f\"Epoch [{epoch+1}/{epochs}], Loss: {loss.item():.10f}\")\n",
        "\n",
        "# 5. 测试模型\n",
        "model.eval()\n",
        "predictions = []\n",
        "actuals = []\n",
        "\n",
        "with torch.no_grad():\n",
        "    #print(len(X_batch))\n",
        "    for X_batch, y_batch, z_batch in test_loader:\n",
        "        #print(X_batch)\n",
        "        X_batch, y_batch = X_batch.to(device), y_batch.to(device)\n",
        "        output, hidden = model(X_batch, hidden)\n",
        "        #print(\"X_batch\")\n",
        "        #print(X_batch)\n",
        "        #print(\"output\")\n",
        "        #print(output)\n",
        "        pre= output.cpu().numpy()[:,0]  * z_batch.cpu().numpy()[:,0]\n",
        "        #print(output)\n",
        "        #print(z_batch.shape)\n",
        "        #print(pre.shape)\n",
        "        predictions.extend(pre )\n",
        "        actuals.extend(z_batch.cpu().numpy()[:,1])\n",
        "\n",
        "# 转换为数组\n",
        "all_elements=[]\n",
        "for arr in predictions:\n",
        "    for elem in arr.flat:  # 遍历每个数组的元素\n",
        "        all_elements.append(elem)\n",
        "\n",
        "predictions=all_elements[0:len(actuals)]\n",
        "print(len(predictions))\n",
        "print(len(actuals))\n",
        "\n",
        "# 反向标准化\n",
        "# 选择需要恢复的列（比如第 0 列）\n",
        "\n",
        "\n",
        "# 恢复 predictions 和 actual 到原始 scale\n",
        "#restored_predictions = scaler.inverse_transform(\n",
        "#    np.hstack([np.zeros((predictions.shape[0], 3)),predictions, np.zeros((predictions.shape[0], 3))])\n",
        "#)[:, 3]  # 恢复第 0 列的值\n",
        "\n",
        "#restored_actual = scaler.inverse_transform(\n",
        "#    np.hstack([np.zeros((actuals.shape[0], 3)),actuals, np.zeros((actuals.shape[0], 3))])\n",
        "#)[:, 3]  # 恢复第 0 列的值\n",
        "\n",
        "\n",
        "\n",
        "#predictions=restored_predictions.reshape(-1,1)\n",
        "#actuals=restored_actual.reshape(-1,1)\n",
        "\n",
        "# 6. 可视化结果\n",
        "plt.figure(figsize=(10,6))\n",
        "plt.plot(actuals, label='Actual Price')\n",
        "plt.plot(predictions, label='Predicted Price')\n",
        "plt.xlabel(\"Days\")\n",
        "plt.ylabel(\"Price\")\n",
        "plt.legend()\n",
        "plt.show()\n",
        "\n",
        "# 7. 保存模型（可选）\n",
        "torch.save(model.state_dict(), 'stock_gru_model.pth')\n",
        "\n",
        "data['timestamp'] = pd.to_datetime(data['timestamp'])\n",
        "\n",
        "# 获取日期列（假设原始数据有日期列）\n",
        "dates = data['timestamp'].values[-len(actuals):]  # 对应于测试集的日期范围\n",
        "\n",
        "# 创建 DataFrame 保存实际值和预测值\n",
        "results_df = pd.DataFrame({\n",
        "    'timestamp': dates,\n",
        "    'Actual Price': actuals,\n",
        "    'Predicted Price': predictions\n",
        "})\n",
        "\n",
        "# 保存到 CSV 文件\n",
        "results_df.to_csv('actuals_vs_predictions.csv', index=False)\n",
        "print(\"Results saved to 'actuals_vs_predictions.csv'\")\n"
      ],
      "metadata": {
        "colab": {
          "base_uri": "https://localhost:8080/",
          "height": 703
        },
        "id": "bOfWzzmPQO-U",
        "outputId": "2c5e783f-75b6-4664-fd2f-6e8091b163e3"
      },
      "execution_count": 3,
      "outputs": [
        {
          "output_type": "stream",
          "name": "stderr",
          "text": [
            " 20%|██        | 10/50 [00:08<00:29,  1.36it/s]"
          ]
        },
        {
          "output_type": "stream",
          "name": "stdout",
          "text": [
            "Epoch [10/50], Loss: 0.2486992478\n"
          ]
        },
        {
          "output_type": "stream",
          "name": "stderr",
          "text": [
            " 40%|████      | 20/50 [00:15<00:22,  1.35it/s]"
          ]
        },
        {
          "output_type": "stream",
          "name": "stdout",
          "text": [
            "Epoch [20/50], Loss: 0.2071635723\n"
          ]
        },
        {
          "output_type": "stream",
          "name": "stderr",
          "text": [
            " 60%|██████    | 30/50 [00:22<00:14,  1.37it/s]"
          ]
        },
        {
          "output_type": "stream",
          "name": "stdout",
          "text": [
            "Epoch [30/50], Loss: 0.2002744675\n"
          ]
        },
        {
          "output_type": "stream",
          "name": "stderr",
          "text": [
            " 80%|████████  | 40/50 [00:30<00:07,  1.37it/s]"
          ]
        },
        {
          "output_type": "stream",
          "name": "stdout",
          "text": [
            "Epoch [40/50], Loss: 0.3778784871\n"
          ]
        },
        {
          "output_type": "stream",
          "name": "stderr",
          "text": [
            "100%|██████████| 50/50 [00:37<00:00,  1.33it/s]"
          ]
        },
        {
          "output_type": "stream",
          "name": "stdout",
          "text": [
            "Epoch [50/50], Loss: 0.4510713816\n",
            "480\n",
            "480\n"
          ]
        },
        {
          "output_type": "stream",
          "name": "stderr",
          "text": [
            "\n"
          ]
        },
        {
          "output_type": "display_data",
          "data": {
            "text/plain": [
              "<Figure size 1000x600 with 1 Axes>"
            ],
            "image/png": "[encoded data removed]"
          },
          "metadata": {}
        },
        {
          "output_type": "stream",
          "name": "stdout",
          "text": [
            "Results saved to 'actuals_vs_predictions.csv'\n"
          ]
        }
      ]
    },
    {
      "cell_type": "code",
      "source": [
        "from google.colab import files\n",
        "#files.download(\"stock_gru_model.pth\")\n",
        "files.download(\"actuals_vs_predictions.csv\")"
      ],
      "metadata": {
        "colab": {
          "base_uri": "https://localhost:8080/",
          "height": 17
        },
        "id": "62B5cnbyil-h",
        "outputId": "7a6e954d-fb72-4c15-fd89-07ee04f785ee"
      },
      "execution_count": 4,
      "outputs": [
        {
          "output_type": "display_data",
          "data": {
            "text/plain": [
              "<IPython.core.display.Javascript object>"
            ],
            "application/javascript": [
              "\n",
              "    async function download(id, filename, size) {\n",
              "      if (!google.colab.kernel.accessAllowed) {\n",
              "        return;\n",
              "      }\n",
              "      const div = document.createElement('div');\n",
              "      const label = document.createElement('label');\n",
              "      label.textContent = `Downloading \"${filename}\": `;\n",
              "      div.appendChild(label);\n",
              "      const progress = document.createElement('progress');\n",
              "      progress.max = size;\n",
              "      div.appendChild(progress);\n",
              "      document.body.appendChild(div);\n",
              "\n",
              "      const buffers = [];\n",
              "      let downloaded = 0;\n",
              "\n",
              "      const channel = await google.colab.kernel.comms.open(id);\n",
              "      // Send a message to notify the kernel that we're ready.\n",
              "      channel.send({})\n",
              "\n",
              "      for await (const message of channel.messages) {\n",
              "        // Send a message to notify the kernel that we're ready.\n",
              "        channel.send({})\n",
              "        if (message.buffers) {\n",
              "          for (const buffer of message.buffers) {\n",
              "            buffers.push(buffer);\n",
              "            downloaded += buffer.byteLength;\n",
              "            progress.value = downloaded;\n",
              "          }\n",
              "        }\n",
              "      }\n",
              "      const blob = new Blob(buffers, {type: 'application/binary'});\n",
              "      const a = document.createElement('a');\n",
              "      a.href = window.URL.createObjectURL(blob);\n",
              "      a.download = filename;\n",
              "      div.appendChild(a);\n",
              "      a.click();\n",
              "      div.remove();\n",
              "    }\n",
              "  "
            ]
          },
          "metadata": {}
        },
        {
          "output_type": "display_data",
          "data": {
            "text/plain": [
              "<IPython.core.display.Javascript object>"
            ],
            "application/javascript": [
              "download(\"download_5e5f9578-e6ee-4d2c-9efe-ff4ea2e01a60\", \"actuals_vs_predictions.csv\", 12730)"
            ]
          },
          "metadata": {}
        }
      ]
    }
  ]
}